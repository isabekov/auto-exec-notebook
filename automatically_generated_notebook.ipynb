{
 "cells": [
  {
   "cell_type": "markdown",
   "id": "b8961594",
   "metadata": {},
   "source": [
    "This notebook was automatically generated."
   ]
  },
  {
   "cell_type": "code",
   "execution_count": null,
   "id": "661bae11",
   "metadata": {},
   "outputs": [],
   "source": [
    "print('Hello world')"
   ]
  },
  {
   "cell_type": "code",
   "execution_count": null,
   "id": "bc3aaf1e",
   "metadata": {},
   "outputs": [],
   "source": [
    "frequency = 5.0"
   ]
  },
  {
   "cell_type": "code",
   "execution_count": null,
   "id": "f721bf95",
   "metadata": {},
   "outputs": [],
   "source": [
    "%matplotlib inline\n",
    "import matplotlib.pyplot as plt\n",
    "import numpy as np\n",
    "\n",
    "x = np.linspace(0, 2*np.pi, 200)\n",
    "y = np.sin(frequency*x)\n",
    "\n",
    "plt.plot(x, y)\n"
   ]
  }
 ],
 "metadata": {},
 "nbformat": 4,
 "nbformat_minor": 5
}