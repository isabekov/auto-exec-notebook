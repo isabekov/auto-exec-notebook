{
 "cells": [
  {
   "cell_type": "code",
   "execution_count": 1,
   "id": "a7557567-6f32-440f-aee2-30fcc3693a42",
   "metadata": {},
   "outputs": [
    {
     "name": "stdout",
     "output_type": "stream",
     "text": [
      "Filename of opened notebook: 'automatically_generated_notebook.ipynb'\n",
      "Filename of stored notebook: 'automatically_generated_notebook_executed.ipynb'\n"
     ]
    }
   ],
   "source": [
    "import nbformat\n",
    "from nbconvert.preprocessors.execute import ExecutePreprocessor\n",
    "pp = ExecutePreprocessor()\n",
    "pp.timeout = 300  # seconds\n",
    "pp.interrupt_on_timeout = True\n",
    "\n",
    "filename = 'automatically_generated_notebook.ipynb'\n",
    "with open(filename, 'r') as f:\n",
    "    nb = nbformat.read(f, as_version=4)\n",
    "    \n",
    "nb_executed, resources = pp.preprocess(nb, resources={})\n",
    "print(\"Filename of opened notebook: '{}'\".format(filename))\n",
    "\n",
    "filename = 'automatically_generated_notebook_executed.ipynb'\n",
    "with open(filename, 'w') as f:\n",
    "    f.write(nbformat.v4.writes_json(nb_executed))\n",
    "print(\"Filename of stored notebook: '{}'\".format(filename))"
   ]
  }
 ],
 "metadata": {
  "kernelspec": {
   "display_name": "Python 3 (ipykernel)",
   "language": "python",
   "name": "python3"
  },
  "language_info": {
   "codemirror_mode": {
    "name": "ipython",
    "version": 3
   },
   "file_extension": ".py",
   "mimetype": "text/x-python",
   "name": "python",
   "nbconvert_exporter": "python",
   "pygments_lexer": "ipython3",
   "version": "3.10.8"
  }
 },
 "nbformat": 4,
 "nbformat_minor": 5
}
